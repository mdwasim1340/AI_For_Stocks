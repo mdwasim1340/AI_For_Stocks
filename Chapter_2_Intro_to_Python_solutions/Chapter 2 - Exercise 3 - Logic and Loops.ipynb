{
 "cells": [
  {
   "cell_type": "markdown",
   "metadata": {},
   "source": [
    "# Exercise 3 - Logic and Loops"
   ]
  },
  {
   "cell_type": "code",
   "execution_count": 1,
   "metadata": {},
   "outputs": [],
   "source": [
    "# Code from Book: Build Your Own AI Investor\n",
    "# Damon Lee 2021\n",
    "# Check out the performance on www.valueinvestingai.com\n",
    "# Code uses data from the (presumably) nice people at https://simfin.com/. \n",
    "# Feel free to fork this code for others to see what can be done with it."
   ]
  },
  {
   "cell_type": "markdown",
   "metadata": {},
   "source": [
    "# Exercise 3"
   ]
  },
  {
   "cell_type": "code",
   "execution_count": 1,
   "metadata": {},
   "outputs": [],
   "source": [
    "# Output stocks with a price/earnings ratio below a number and a beta above a number. \n",
    "# return a list of aceptable stocks with ascending by P/E\n",
    "# Try and separate out these steps and work on one at a time, life is easier that way\n",
    "\n",
    "# Toby has come and messed up the code! Try and get it working again by fixing the code missing where \"?\" appears"
   ]
  },
  {
   "cell_type": "code",
   "execution_count": 2,
   "metadata": {},
   "outputs": [],
   "source": [
    "# Given data.\n",
    "Stocks = ['JKHY', 'FSTR', 'ETV', 'WAFD', 'RSG', 'HTGC']\n",
    "PriceEarningsRatios = [48.54, 3.29, 5.71, 9.18, 23.89, 14.02]\n",
    "Beta = [0.59, 1.67, 0.89, 0.99, 0.62, 1.51]"
   ]
  },
  {
   "cell_type": "code",
   "execution_count": 3,
   "metadata": {},
   "outputs": [],
   "source": [
    "'''\n",
    "# Fix this function\n",
    "def filterStocks(maxBeta, maxPE):\n",
    "    filteredStocks = [?] # Create an empty list to be appended to.\n",
    "    for i, stock in enumerate(Stocks): # This counts i as 1, 2, 3, ... down the list of stocks\n",
    "        PriceEarningsBool = (PriceEarningsRatios[i] < ?) # returns True if our current PE is less than maxPE\n",
    "        ? = (Beta[i] < ?) # returns True if our current beta is less than maxbeta\n",
    "        if (? & BetaBool):\n",
    "            filteredStocks.?(Stocks[i]) # with each loop, if conditions are met, append to the list.\n",
    "    return ? # Return the filtered Stocks\n",
    "'''\n",
    "\n",
    "# Fix this function\n",
    "def filterStocks(maxBeta, maxPE):\n",
    "    filteredStocks = [] # Create an empty list to be appended to.\n",
    "    for i, stock in enumerate(Stocks): # This counts i as 1, 2, 3, ... down the list of stocks\n",
    "        PriceEarningsBool = (PriceEarningsRatios[i] < maxPE) # returns True if our current PE is less than maxPE\n",
    "        BetaBool = (Beta[i] < maxBeta) # returns True if our current beta is less than maxbeta\n",
    "        if (PriceEarningsBool & BetaBool):\n",
    "            filteredStocks.append(Stocks[i]) # with each loop, if conditions are met, append to the list.\n",
    "    return filteredStocks # Return the filtered Stocks\n",
    "\n"
   ]
  },
  {
   "cell_type": "code",
   "execution_count": 4,
   "metadata": {},
   "outputs": [
    {
     "name": "stdout",
     "output_type": "stream",
     "text": [
      "Accepted filtered stocks are: ['ETV', 'WAFD']\n"
     ]
    }
   ],
   "source": [
    "# Try using this function \n",
    "maxBeta = 1.2 # Can try a bunch of numbers\n",
    "maxPE = 20 # Can try a bunch of numbers\n",
    "\n",
    "filteredStocks = filterStocks(maxBeta, maxPE)\n",
    "print('Accepted filtered stocks are:', filteredStocks)"
   ]
  },
  {
   "cell_type": "code",
   "execution_count": null,
   "metadata": {},
   "outputs": [],
   "source": []
  }
 ],
 "metadata": {
  "kernelspec": {
   "display_name": "Python 3.7 (tensorflow)",
   "language": "python",
   "name": "tensorflow"
  },
  "language_info": {
   "codemirror_mode": {
    "name": "ipython",
    "version": 3
   },
   "file_extension": ".py",
   "mimetype": "text/x-python",
   "name": "python",
   "nbconvert_exporter": "python",
   "pygments_lexer": "ipython3",
   "version": "3.7.7"
  }
 },
 "nbformat": 4,
 "nbformat_minor": 4
}
